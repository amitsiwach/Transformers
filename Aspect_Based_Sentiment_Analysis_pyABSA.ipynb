{
  "nbformat": 4,
  "nbformat_minor": 0,
  "metadata": {
    "colab": {
      "provenance": [],
      "authorship_tag": "ABX9TyPIGt29MXCECS8rNxV5pkAV",
      "include_colab_link": true
    },
    "kernelspec": {
      "name": "python3",
      "display_name": "Python 3"
    },
    "language_info": {
      "name": "python"
    },
    "accelerator": "GPU"
  },
  "cells": [
    {
      "cell_type": "markdown",
      "metadata": {
        "id": "view-in-github",
        "colab_type": "text"
      },
      "source": [
        "<a href=\"https://colab.research.google.com/github/amitsiwach/Transformers/blob/main/Aspect_Based_Sentiment_Analysis_pyABSA.ipynb\" target=\"_parent\"><img src=\"https://colab.research.google.com/assets/colab-badge.svg\" alt=\"Open In Colab\"/></a>"
      ]
    },
    {
      "cell_type": "markdown",
      "source": [
        "# Aspect term extraction and sentiment classification via [PyABSA](https://https://github.com/yangheng95/PyABSA)"
      ],
      "metadata": {
        "id": "vGq_klkV3swN"
      }
    },
    {
      "cell_type": "code",
      "source": [
        "!pip install pyabsa"
      ],
      "metadata": {
        "id": "cQ8V1-jI3nZP"
      },
      "execution_count": null,
      "outputs": []
    },
    {
      "cell_type": "code",
      "source": [
        "from pyabsa import available_checkpoints\n",
        "checkpoint_map = available_checkpoints()"
      ],
      "metadata": {
        "colab": {
          "base_uri": "https://localhost:8080/"
        },
        "id": "7l6fqv9S39dI",
        "outputId": "2c7ab645-1ed1-4b65-8663-00d8c14587eb"
      },
      "execution_count": 31,
      "outputs": [
        {
          "output_type": "stream",
          "name": "stdout",
          "text": [
            "\u001b[33mThere may be some checkpoints available for early versions of PyABSA, see \u001b[0m\n"
          ]
        }
      ]
    },
    {
      "cell_type": "code",
      "source": [
        "from pyabsa import ATEPCCheckpointManager\n",
        "\n",
        "aspect_extractor = ATEPCCheckpointManager.get_aspect_extractor(checkpoint='english',\n",
        "                                   auto_device=True  # False means load model on CPU\n",
        "                                   )"
      ],
      "metadata": {
        "colab": {
          "base_uri": "https://localhost:8080/"
        },
        "id": "D_hONxg64T8Z",
        "outputId": "deaa435a-aa59-4184-fa80-746b110e6d78"
      },
      "execution_count": 32,
      "outputs": [
        {
          "output_type": "stream",
          "name": "stdout",
          "text": [
            "Load aspect extractor from checkpoints/ATEPC_ENGLISH_CHECKPOINT\n",
            "config: checkpoints/ATEPC_ENGLISH_CHECKPOINT/fast_lcf_atepc.config\n",
            "state_dict: checkpoints/ATEPC_ENGLISH_CHECKPOINT/fast_lcf_atepc.state_dict\n",
            "model: None\n",
            "tokenizer: checkpoints/ATEPC_ENGLISH_CHECKPOINT/fast_lcf_atepc.tokenizer\n"
          ]
        },
        {
          "output_type": "stream",
          "name": "stderr",
          "text": [
            "Some weights of the model checkpoint at microsoft/deberta-v3-base were not used when initializing DebertaV2Model: ['mask_predictions.dense.bias', 'mask_predictions.dense.weight', 'lm_predictions.lm_head.dense.bias', 'mask_predictions.LayerNorm.weight', 'lm_predictions.lm_head.LayerNorm.weight', 'lm_predictions.lm_head.LayerNorm.bias', 'lm_predictions.lm_head.dense.weight', 'lm_predictions.lm_head.bias', 'mask_predictions.classifier.weight', 'mask_predictions.LayerNorm.bias', 'mask_predictions.classifier.bias']\n",
            "- This IS expected if you are initializing DebertaV2Model from the checkpoint of a model trained on another task or with another architecture (e.g. initializing a BertForSequenceClassification model from a BertForPreTraining model).\n",
            "- This IS NOT expected if you are initializing DebertaV2Model from the checkpoint of a model that you expect to be exactly identical (initializing a BertForSequenceClassification model from a BertForSequenceClassification model).\n",
            "Special tokens have been added in the vocabulary, make sure the associated word embeddings are fine-tuned or trained.\n",
            "/usr/local/lib/python3.7/dist-packages/transformers/convert_slow_tokenizer.py:447: UserWarning: The sentencepiece tokenizer that you are converting to a fast tokenizer uses the byte fallback option which is not implemented in the fast tokenizers. In practice this means that the fast version of the tokenizer can produce unknown tokens whereas the sentencepiece version would have converted these unknown tokens into a sequence of byte tokens matching the original piece of text.\n",
            "  \"The sentencepiece tokenizer that you are converting to a fast tokenizer uses the byte fallback option\"\n",
            "Special tokens have been added in the vocabulary, make sure the associated word embeddings are fine-tuned or trained.\n"
          ]
        }
      ]
    },
    {
      "cell_type": "code",
      "source": [],
      "metadata": {
        "id": "0fJ3WfMxhynJ"
      },
      "execution_count": 32,
      "outputs": []
    },
    {
      "cell_type": "markdown",
      "source": [
        "# **Aspect Term Extract & Sentiment Inference**"
      ],
      "metadata": {
        "id": "k3RvxOw8iBxw"
      }
    },
    {
      "cell_type": "code",
      "source": [
        "# You can inference from a list of setences or a DatasetItem from PyABSA \n",
        "examples = ['Staff was very rude but food was delicious']\n",
        "inference_source = examples\n",
        "atepc_result = aspect_extractor.extract_aspect(inference_source=inference_source,  #\n",
        "                          pred_sentiment=True,  # Predict the sentiment of extracted aspect terms\n",
        "                          )"
      ],
      "metadata": {
        "colab": {
          "base_uri": "https://localhost:8080/"
        },
        "id": "Dm03dkJ-iHXp",
        "outputId": "814c6c06-c8ee-4cc9-8e86-b51e7b4a8128"
      },
      "execution_count": 33,
      "outputs": [
        {
          "output_type": "stream",
          "name": "stderr",
          "text": [
            "/usr/local/lib/python3.7/dist-packages/transformers/models/deberta_v2/modeling_deberta_v2.py:746: UserWarning: To copy construct from a tensor, it is recommended to use sourceTensor.clone().detach() or sourceTensor.clone().detach().requires_grad_(True), rather than torch.tensor(sourceTensor).\n",
            "  scale, dtype=query_layer.dtype\n"
          ]
        },
        {
          "output_type": "stream",
          "name": "stdout",
          "text": [
            "The results of aspect term extraction have been saved in /content/atepc_inference.result.json\n",
            "Example 0: Staff was very rude but \u001b[32m<food:Positive Confidence:0.9995498061180115>\u001b[0m was delicious\n"
          ]
        },
        {
          "output_type": "stream",
          "name": "stderr",
          "text": [
            "/usr/local/lib/python3.7/dist-packages/pyabsa/core/atepc/prediction/aspect_extractor.py:410: UserWarning: Implicit dimension choice for softmax has been deprecated. Change the call to include dim=X as an argument.\n",
            "  probs = [float(x) for x in F.softmax(i_apc_logits).cpu().numpy().tolist()]\n"
          ]
        }
      ]
    },
    {
      "cell_type": "code",
      "source": [
        "atepc_result"
      ],
      "metadata": {
        "colab": {
          "base_uri": "https://localhost:8080/"
        },
        "id": "Tj37HC7RiOwy",
        "outputId": "3484345f-71b9-4a5a-88cb-bb3d9c06ff13"
      },
      "execution_count": 34,
      "outputs": [
        {
          "output_type": "execute_result",
          "data": {
            "text/plain": [
              "[{'sentence': 'Staff was very rude but food was delicious',\n",
              "  'IOB': ['B-ASP', 'O', 'O', 'O', 'O', 'B-ASP', 'O', 'O'],\n",
              "  'tokens': ['Staff',\n",
              "   'was',\n",
              "   'very',\n",
              "   'rude',\n",
              "   'but',\n",
              "   'food',\n",
              "   'was',\n",
              "   'delicious'],\n",
              "  'aspect': ['Staff', 'food'],\n",
              "  'position': [[0], [5]],\n",
              "  'sentiment': ['Negative', 'Positive'],\n",
              "  'probs': [[0.9998047947883606,\n",
              "    5.137383413966745e-05,\n",
              "    0.00014384780661202967],\n",
              "   [0.00041057271300815046, 3.9567865314893425e-05, 0.9995498061180115]],\n",
              "  'confidence': [0.9998047947883606, 0.9995498061180115]}]"
            ]
          },
          "metadata": {},
          "execution_count": 34
        }
      ]
    },
    {
      "cell_type": "code",
      "source": [
        "# You can inference from a list of setences or a DatasetItem from PyABSA \n",
        "examples = ['Camera quality is very good but battery drains faster']\n",
        "inference_source = examples\n",
        "atepc_result = aspect_extractor.extract_aspect(inference_source=inference_source,  #\n",
        "                          pred_sentiment=True,  # Predict the sentiment of extracted aspect terms\n",
        "                          )"
      ],
      "metadata": {
        "colab": {
          "base_uri": "https://localhost:8080/"
        },
        "id": "_9EpeVESicbi",
        "outputId": "4d75597a-5813-4ac3-8942-b3624973fbcb"
      },
      "execution_count": 35,
      "outputs": [
        {
          "output_type": "stream",
          "name": "stdout",
          "text": [
            "The results of aspect term extraction have been saved in /content/atepc_inference.result.json\n",
            "Example 0: Camera quality is very good but \u001b[31m<battery:Negative Confidence:0.9997813105583191>\u001b[0m drains faster\n"
          ]
        }
      ]
    },
    {
      "cell_type": "code",
      "source": [
        "atepc_result"
      ],
      "metadata": {
        "colab": {
          "base_uri": "https://localhost:8080/"
        },
        "id": "iQBm5HGcisOK",
        "outputId": "c385a0c2-9413-4ce8-edc4-e1ae1b6e6a2b"
      },
      "execution_count": 36,
      "outputs": [
        {
          "output_type": "execute_result",
          "data": {
            "text/plain": [
              "[{'sentence': 'Camera quality is very good but battery drains faster',\n",
              "  'IOB': ['B-ASP', 'I-ASP', 'O', 'O', 'O', 'O', 'B-ASP', 'O', 'O'],\n",
              "  'tokens': ['Camera',\n",
              "   'quality',\n",
              "   'is',\n",
              "   'very',\n",
              "   'good',\n",
              "   'but',\n",
              "   'battery',\n",
              "   'drains',\n",
              "   'faster'],\n",
              "  'aspect': ['Camera quality', 'battery'],\n",
              "  'position': [[0, 1], [6]],\n",
              "  'sentiment': ['Positive', 'Negative'],\n",
              "  'probs': [[0.000917278986889869, 5.3328836656874046e-05, 0.9990293979644775],\n",
              "   [0.9997813105583191, 5.8281304518459365e-05, 0.00016040670743677765]],\n",
              "  'confidence': [0.9990293979644775, 0.9997813105583191]}]"
            ]
          },
          "metadata": {},
          "execution_count": 36
        }
      ]
    },
    {
      "cell_type": "code",
      "source": [],
      "metadata": {
        "id": "KsucHqLwlIQZ"
      },
      "execution_count": null,
      "outputs": []
    }
  ]
}